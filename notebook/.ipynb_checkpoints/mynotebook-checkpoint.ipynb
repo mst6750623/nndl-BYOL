{
 "cells": [
  {
   "cell_type": "code",
   "execution_count": 3,
   "id": "f780f0bc",
   "metadata": {},
   "outputs": [],
   "source": [
    "import torch\n",
    "import torchvision\n",
    "from torch.utils.data import DataLoader\n",
    "import os\n",
    "import sys\n",
    "sys.path.append(\"..\")\n",
    "import data_augmentation.data_transform as transform\n",
    "import trainer\n",
    "import matplotlib\n",
    "import matplotlib.pyplot as plt\n",
    "from data_augmentation.multiview_data import MultiviewData\n",
    "from PIL import Image\n",
    "from pylab import *"
   ]
  },
  {
   "cell_type": "code",
   "execution_count": 4,
   "id": "676524c7",
   "metadata": {},
   "outputs": [
    {
     "name": "stdout",
     "output_type": "stream",
     "text": [
      "Files already downloaded and verified\n"
     ]
    }
   ],
   "source": [
    "data_root = \"/mnt/pami23/stma/datasets/STL10\"\n",
    "batch_size = 10\n",
    "data = torchvision.datasets.STL10(\n",
    "        data_root,\n",
    "        split='train+unlabeled',\n",
    "        transform=MultiviewData(\n",
    "            [transform.my_transform(True),\n",
    "             transform.my_transform(False)]),\n",
    "        #transform=torchvision.transforms.ToTensor(),\n",
    "        download=True)"
   ]
  },
  {
   "cell_type": "code",
   "execution_count": 15,
   "id": "3a793cc9",
   "metadata": {},
   "outputs": [
    {
     "ename": "AttributeError",
     "evalue": "isequal",
     "output_type": "error",
     "traceback": [
      "\u001b[0;31m---------------------------------------------------------------------------\u001b[0m",
      "\u001b[0;31mAttributeError\u001b[0m                            Traceback (most recent call last)",
      "\u001b[0;32m/tmp/ipykernel_6709/1374245615.py\u001b[0m in \u001b[0;36m<module>\u001b[0;34m\u001b[0m\n\u001b[1;32m      5\u001b[0m         \u001b[0mimage1\u001b[0m \u001b[0;34m=\u001b[0m \u001b[0mtorchvision\u001b[0m\u001b[0;34m.\u001b[0m\u001b[0mtransforms\u001b[0m\u001b[0;34m.\u001b[0m\u001b[0mToPILImage\u001b[0m\u001b[0;34m(\u001b[0m\u001b[0;34m)\u001b[0m\u001b[0;34m(\u001b[0m\u001b[0mx1\u001b[0m\u001b[0;34m[\u001b[0m\u001b[0;36m0\u001b[0m\u001b[0;34m]\u001b[0m\u001b[0;34m)\u001b[0m\u001b[0;34m\u001b[0m\u001b[0;34m\u001b[0m\u001b[0m\n\u001b[1;32m      6\u001b[0m         \u001b[0mimage2\u001b[0m \u001b[0;34m=\u001b[0m \u001b[0mtorchvision\u001b[0m\u001b[0;34m.\u001b[0m\u001b[0mtransforms\u001b[0m\u001b[0;34m.\u001b[0m\u001b[0mToPILImage\u001b[0m\u001b[0;34m(\u001b[0m\u001b[0;34m)\u001b[0m\u001b[0;34m(\u001b[0m\u001b[0mx2\u001b[0m\u001b[0;34m[\u001b[0m\u001b[0;36m0\u001b[0m\u001b[0;34m]\u001b[0m\u001b[0;34m)\u001b[0m\u001b[0;34m\u001b[0m\u001b[0;34m\u001b[0m\u001b[0m\n\u001b[0;32m----> 7\u001b[0;31m         \u001b[0mprint\u001b[0m\u001b[0;34m(\u001b[0m\u001b[0mimage1\u001b[0m\u001b[0;34m.\u001b[0m\u001b[0misequal\u001b[0m\u001b[0;34m(\u001b[0m\u001b[0mimage2\u001b[0m\u001b[0;34m)\u001b[0m\u001b[0;34m)\u001b[0m\u001b[0;34m\u001b[0m\u001b[0;34m\u001b[0m\u001b[0m\n\u001b[0m\u001b[1;32m      8\u001b[0m         \u001b[0;32mbreak\u001b[0m\u001b[0;34m\u001b[0m\u001b[0;34m\u001b[0m\u001b[0m\n",
      "\u001b[0;32m/mnt/local2/stma/anaconda3/envs/BYOL/lib/python3.8/site-packages/PIL/Image.py\u001b[0m in \u001b[0;36m__getattr__\u001b[0;34m(self, name)\u001b[0m\n\u001b[1;32m    544\u001b[0m             )\n\u001b[1;32m    545\u001b[0m             \u001b[0;32mreturn\u001b[0m \u001b[0mself\u001b[0m\u001b[0;34m.\u001b[0m\u001b[0m_category\u001b[0m\u001b[0;34m\u001b[0m\u001b[0;34m\u001b[0m\u001b[0m\n\u001b[0;32m--> 546\u001b[0;31m         \u001b[0;32mraise\u001b[0m \u001b[0mAttributeError\u001b[0m\u001b[0;34m(\u001b[0m\u001b[0mname\u001b[0m\u001b[0;34m)\u001b[0m\u001b[0;34m\u001b[0m\u001b[0;34m\u001b[0m\u001b[0m\n\u001b[0m\u001b[1;32m    547\u001b[0m \u001b[0;34m\u001b[0m\u001b[0m\n\u001b[1;32m    548\u001b[0m     \u001b[0;34m@\u001b[0m\u001b[0mproperty\u001b[0m\u001b[0;34m\u001b[0m\u001b[0;34m\u001b[0m\u001b[0m\n",
      "\u001b[0;31mAttributeError\u001b[0m: isequal"
     ]
    }
   ],
   "source": [
    "data_iter = DataLoader(data, batch_size, shuffle=True)\n",
    "x=0\n",
    "for (x1,x2),_ in data_iter:\n",
    "    if x==0:\n",
    "        image1 = torchvision.transforms.ToPILImage()(x1[0])\n",
    "        image2 = torchvision.transforms.ToPILImage()(x2[0])\n",
    "        break"
   ]
  },
  {
   "cell_type": "code",
   "execution_count": null,
   "id": "3ac27f7a",
   "metadata": {
    "scrolled": true
   },
   "outputs": [],
   "source": [
    "\n",
    "toTensor = torchvision.transforms.ToTensor()\n",
    "image_tensor = toTensor(data[0][0])\n",
    "#image = torchvision.transforms.ToPILImage()(image_tensor)\n",
    "#image\n",
    "image_tensor.shape"
   ]
  },
  {
   "cell_type": "markdown",
   "id": "fc136df9",
   "metadata": {},
   "source": [
    "**then test the image transform:**"
   ]
  },
  {
   "cell_type": "code",
   "execution_count": null,
   "id": "f5bce77e",
   "metadata": {},
   "outputs": [],
   "source": [
    "now_transform = transform.my_transform(True)\n",
    "image_transform = now_transform(data[0][0])\n",
    "#image = torchvision.transforms.ToPILImage()(image)\n",
    "# image.show()\n",
    "image_transform2 = now_transform(data[0][0])\n",
    "image_transform.shape"
   ]
  },
  {
   "cell_type": "code",
   "execution_count": null,
   "id": "e82ab4f0",
   "metadata": {},
   "outputs": [],
   "source": [
    "x = torch.arange(6).reshape((2,3)).float()\n",
    "norm = torch.norm(x,dim=0, keepdim=True)\n",
    "y = torch.arange(6).reshape((2,3))\n",
    "x*y"
   ]
  }
 ],
 "metadata": {
  "kernelspec": {
   "display_name": "Python 3 (ipykernel)",
   "language": "python",
   "name": "python3"
  },
  "language_info": {
   "codemirror_mode": {
    "name": "ipython",
    "version": 3
   },
   "file_extension": ".py",
   "mimetype": "text/x-python",
   "name": "python",
   "nbconvert_exporter": "python",
   "pygments_lexer": "ipython3",
   "version": "3.8.12"
  }
 },
 "nbformat": 4,
 "nbformat_minor": 5
}
